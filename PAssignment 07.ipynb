{
 "cells": [
  {
   "cell_type": "markdown",
   "id": "e3beb4da",
   "metadata": {},
   "source": [
    "## 1. Write a Python Program to find sum of array?"
   ]
  },
  {
   "cell_type": "code",
   "execution_count": 1,
   "id": "2f2a7f7c",
   "metadata": {},
   "outputs": [
    {
     "data": {
      "text/plain": [
       "15"
      ]
     },
     "execution_count": 1,
     "metadata": {},
     "output_type": "execute_result"
    }
   ],
   "source": [
    "from functools import reduce\n",
    "arr = [1,2,3,4,5]\n",
    "reduce(lambda x,y:x+y,arr)"
   ]
  },
  {
   "cell_type": "code",
   "execution_count": 2,
   "id": "c74bef38",
   "metadata": {},
   "outputs": [
    {
     "data": {
      "text/plain": [
       "15"
      ]
     },
     "execution_count": 2,
     "metadata": {},
     "output_type": "execute_result"
    }
   ],
   "source": [
    "arr = [1,2,3,4,5]\n",
    "sum=0\n",
    "for i in arr:\n",
    "    sum+=i\n",
    "sum"
   ]
  },
  {
   "cell_type": "markdown",
   "id": "aa9ef1c1",
   "metadata": {},
   "source": [
    "## 2. Write a Python Program to find largest element in an array?"
   ]
  },
  {
   "cell_type": "code",
   "execution_count": 3,
   "id": "5824017e",
   "metadata": {},
   "outputs": [
    {
     "name": "stdout",
     "output_type": "stream",
     "text": [
      "Largest element given in array is 67\n"
     ]
    },
    {
     "data": {
      "text/plain": [
       "67"
      ]
     },
     "execution_count": 3,
     "metadata": {},
     "output_type": "execute_result"
    }
   ],
   "source": [
    "def largest(arr,n):\n",
    "   \n",
    "   max = arr[0]\n",
    "   \n",
    "   for i in range(1, n):\n",
    "      if arr[i] > max:\n",
    "         max = arr[i]\n",
    "   return max\n",
    "\n",
    "arr = [23,1,32,67,2,34,12]\n",
    "n = len(arr)\n",
    "Ans = largest(arr,n)\n",
    "print (\"Largest element given in array is\",Ans)\n",
    "max(arr)"
   ]
  },
  {
   "cell_type": "code",
   "execution_count": 5,
   "id": "59ea8b53",
   "metadata": {},
   "outputs": [
    {
     "data": {
      "text/plain": [
       "67"
      ]
     },
     "execution_count": 5,
     "metadata": {},
     "output_type": "execute_result"
    }
   ],
   "source": [
    "numbers = [23,1,32,67,2,34,12]\n",
    "largest_number=numbers[0]\n",
    "n=len(numbers)\n",
    "for i in range(n):\n",
    "    if numbers[i] > largest_number:\n",
    "        largest_number=numbers[i]\n",
    "largest_number"
   ]
  },
  {
   "cell_type": "markdown",
   "id": "1bcedaf6",
   "metadata": {},
   "source": [
    "## 3. Write a Python Program for array rotation?"
   ]
  },
  {
   "cell_type": "code",
   "execution_count": 8,
   "id": "7e7a5c53",
   "metadata": {},
   "outputs": [
    {
     "name": "stdout",
     "output_type": "stream",
     "text": [
      "9\n",
      "77\n",
      "4\n",
      "3\n",
      "2\n"
     ]
    }
   ],
   "source": [
    "arr = [1,2,3,4,77,9]\n",
    "rot = []\n",
    "l = len(arr)-1 \n",
    "for i in range(l , 0, -1):\n",
    "  print(arr[i])"
   ]
  },
  {
   "cell_type": "markdown",
   "id": "94822575",
   "metadata": {},
   "source": [
    "## 4. Write a Python Program to Split the array and add the first part to the end?"
   ]
  },
  {
   "cell_type": "code",
   "execution_count": 9,
   "id": "586da089",
   "metadata": {},
   "outputs": [
    {
     "name": "stdout",
     "output_type": "stream",
     "text": [
      "Output array is [13, 5, 17, 10]\n"
     ]
    }
   ],
   "source": [
    "def split(arr, k):\n",
    "    arr = arr[k:] + arr[:k]\n",
    "    return arr\n",
    "   \n",
    "k = 1\n",
    "arr = [10, 13, 5, 17]\n",
    "print(\"Output array is\", split(arr, k))"
   ]
  },
  {
   "cell_type": "markdown",
   "id": "e6586166",
   "metadata": {},
   "source": [
    "## 5. Write a Python Program to check if given array is Monotonic?"
   ]
  },
  {
   "cell_type": "code",
   "execution_count": 10,
   "id": "a591d5b9",
   "metadata": {},
   "outputs": [
    {
     "name": "stdout",
     "output_type": "stream",
     "text": [
      "Enter the lenth of your list : 3\n",
      "1\n",
      "5\n",
      "6\n",
      "The List is  [1, 5, 6]\n",
      "Monotonic\n"
     ]
    }
   ],
   "source": [
    "l = int(input(\"Enter the lenth of your list : \"))\n",
    "arr = []\n",
    "\n",
    "for i in range(l):\n",
    "    arr.append(int(input()))\n",
    "print(\"The List is \",arr)\n",
    "\n",
    "if all((arr[i] <= arr[i+1] for i in range(l-1)) or (arr[i] >= lst[i+1] for i in range(l-1))):\n",
    "    print(\"Monotonic\")\n",
    "else:\n",
    "    print(\"Not Monotonic\")"
   ]
  },
  {
   "cell_type": "code",
   "execution_count": null,
   "id": "fb639ce6",
   "metadata": {},
   "outputs": [],
   "source": []
  }
 ],
 "metadata": {
  "kernelspec": {
   "display_name": "Python 3 (ipykernel)",
   "language": "python",
   "name": "python3"
  },
  "language_info": {
   "codemirror_mode": {
    "name": "ipython",
    "version": 3
   },
   "file_extension": ".py",
   "mimetype": "text/x-python",
   "name": "python",
   "nbconvert_exporter": "python",
   "pygments_lexer": "ipython3",
   "version": "3.9.6"
  }
 },
 "nbformat": 4,
 "nbformat_minor": 5
}
