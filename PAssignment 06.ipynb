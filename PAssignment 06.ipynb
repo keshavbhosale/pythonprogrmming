{
 "cells": [
  {
   "cell_type": "markdown",
   "id": "89f978eb",
   "metadata": {},
   "source": [
    "## 1. Write a Python Program to Display Fibonacci Sequence Using Recursion?"
   ]
  },
  {
   "cell_type": "code",
   "execution_count": 3,
   "id": "92e56961",
   "metadata": {},
   "outputs": [
    {
     "name": "stdout",
     "output_type": "stream",
     "text": [
      "The fibonacci sequence is :\n",
      "0\n",
      "1\n",
      "1\n",
      "2\n"
     ]
    }
   ],
   "source": [
    "def fibonacci_recursion(i):\n",
    "   if i <= 1:\n",
    "      return i\n",
    "   else:\n",
    "      return(fibonacci_recursion(i-1) + fibonacci_recursion(i-2))\n",
    "\n",
    "num_terms = 4\n",
    "\n",
    "if num_terms <= 0:\n",
    "   print(\"Enter a positive integer\")\n",
    "else:\n",
    "   print(\"The fibonacci sequence is :\")\n",
    "   for i in range(num_terms):\n",
    "      print(fibonacci_recursion(i))"
   ]
  },
  {
   "cell_type": "markdown",
   "id": "8cff023e",
   "metadata": {},
   "source": [
    "## 2. Write a Python Program to Find Factorial of Number Using Recursion?"
   ]
  },
  {
   "cell_type": "code",
   "execution_count": 4,
   "id": "6a2999b0",
   "metadata": {},
   "outputs": [
    {
     "name": "stdout",
     "output_type": "stream",
     "text": [
      "factorial of 5 is  120\n"
     ]
    }
   ],
   "source": [
    "def factorial(x):\n",
    "    if x==1:\n",
    "        return 1\n",
    "    else:\n",
    "        return x*factorial(x-1)\n",
    "\n",
    "f=factorial(5)\n",
    "print (\"factorial of 5 is \",f)"
   ]
  },
  {
   "cell_type": "markdown",
   "id": "90bb07fb",
   "metadata": {},
   "source": [
    "## 3. Write a Python Program to calculate your Body Mass Index?"
   ]
  },
  {
   "cell_type": "code",
   "execution_count": 7,
   "id": "9c678a78",
   "metadata": {},
   "outputs": [
    {
     "name": "stdout",
     "output_type": "stream",
     "text": [
      "Enter your height(cm): 172\n",
      "Enter your weight(kg): 68\n",
      "Your BMI is:  22.985397512168742\n"
     ]
    }
   ],
   "source": [
    "height = int(input(\"Enter your height(cm): \"))\n",
    "weight = int(input(\"Enter your weight(kg): \"))\n",
    "print(\"Your BMI is: \", weight / (height/100)**2)"
   ]
  },
  {
   "cell_type": "markdown",
   "id": "c1d25155",
   "metadata": {},
   "source": [
    "## 4. Write a Python Program to calculate the natural logarithm of any number?"
   ]
  },
  {
   "cell_type": "code",
   "execution_count": 8,
   "id": "93e1ac59",
   "metadata": {},
   "outputs": [
    {
     "name": "stdout",
     "output_type": "stream",
     "text": [
      "4.6063694665635735\n"
     ]
    }
   ],
   "source": [
    "import math  \n",
    "print (math.log(100.12))"
   ]
  },
  {
   "cell_type": "markdown",
   "id": "0e2c0d88",
   "metadata": {},
   "source": [
    "## 5. Write a Python Program for cube sum of first n natural numbers?"
   ]
  },
  {
   "cell_type": "code",
   "execution_count": 9,
   "id": "e4c1cc4c",
   "metadata": {},
   "outputs": [
    {
     "name": "stdout",
     "output_type": "stream",
     "text": [
      "Enter a n numbers3\n",
      "36\n"
     ]
    }
   ],
   "source": [
    "n=int(input('Enter a n numbers'))\n",
    "sum = 0\n",
    "for i in range(1, n+1):\n",
    "  sum +=i*i*i\n",
    "print(sum)\n"
   ]
  },
  {
   "cell_type": "code",
   "execution_count": null,
   "id": "491ca5eb",
   "metadata": {},
   "outputs": [],
   "source": []
  }
 ],
 "metadata": {
  "kernelspec": {
   "display_name": "Python 3 (ipykernel)",
   "language": "python",
   "name": "python3"
  },
  "language_info": {
   "codemirror_mode": {
    "name": "ipython",
    "version": 3
   },
   "file_extension": ".py",
   "mimetype": "text/x-python",
   "name": "python",
   "nbconvert_exporter": "python",
   "pygments_lexer": "ipython3",
   "version": "3.9.6"
  }
 },
 "nbformat": 4,
 "nbformat_minor": 5
}
