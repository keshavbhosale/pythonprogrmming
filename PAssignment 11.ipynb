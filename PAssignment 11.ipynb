{
 "cells": [
  {
   "cell_type": "markdown",
   "id": "5064a52b",
   "metadata": {},
   "source": [
    "## 1. Write a Python program to find words which are greater than given length k?"
   ]
  },
  {
   "cell_type": "code",
   "execution_count": 1,
   "id": "95a0068b",
   "metadata": {},
   "outputs": [
    {
     "name": "stdout",
     "output_type": "stream",
     "text": [
      "['quick', 'brown', 'jumps']\n"
     ]
    }
   ],
   "source": [
    "def long_words(n, str):\n",
    "    word_len = []\n",
    "    txt = str.split(\" \")\n",
    "    for x in txt:\n",
    "        if len(x) > n:\n",
    "            word_len.append(x)\n",
    "    return word_len\t\n",
    "print(long_words(4, \"The quick brown fox jumps over the lazy dog\"))"
   ]
  },
  {
   "cell_type": "markdown",
   "id": "7ffc834d",
   "metadata": {},
   "source": [
    "## 2. Write a Python program for removing i-th character from a string?"
   ]
  },
  {
   "cell_type": "code",
   "execution_count": 2,
   "id": "bcb97b10",
   "metadata": {},
   "outputs": [
    {
     "name": "stdout",
     "output_type": "stream",
     "text": [
      "Pythoisgood\n"
     ]
    }
   ],
   "source": [
    "def remove_char(s, i):\n",
    "    a = s[ : i]\n",
    "    b = s[i + 1: ]\n",
    "\n",
    "    return a+b\n",
    "\n",
    "string = \"Pythonisgood\"\n",
    "\n",
    "i = 5\n",
    "print(remove_char(string,i))"
   ]
  },
  {
   "cell_type": "markdown",
   "id": "85c755d7",
   "metadata": {},
   "source": [
    "## 3. Write a Python program to split and join a string?"
   ]
  },
  {
   "cell_type": "code",
   "execution_count": 3,
   "id": "9ed41c38",
   "metadata": {},
   "outputs": [
    {
     "data": {
      "text/plain": [
       "'my name is keshav'"
      ]
     },
     "execution_count": 3,
     "metadata": {},
     "output_type": "execute_result"
    }
   ],
   "source": [
    "a='my name is keshav'\n",
    "' '.join(a.split(' '))"
   ]
  },
  {
   "cell_type": "markdown",
   "id": "df58873b",
   "metadata": {},
   "source": [
    "## 4. Write a Python to check if a given string is binary string or not?"
   ]
  },
  {
   "cell_type": "code",
   "execution_count": 4,
   "id": "3ab38ea3",
   "metadata": {},
   "outputs": [
    {
     "name": "stdout",
     "output_type": "stream",
     "text": [
      "kesh\n",
      "Non Binary String\n"
     ]
    }
   ],
   "source": [
    "a=input()\n",
    "b = set(a)\n",
    "s = {'0', '1'}\n",
    "if s == b or b == {'0'} or b == {'1'}:\n",
    "    print(\"Binary String\")\n",
    "else :\n",
    "    print(\"Non Binary String\")"
   ]
  },
  {
   "cell_type": "markdown",
   "id": "419d890d",
   "metadata": {},
   "source": [
    "## 5. Write a Python program to find uncommon words from two Strings?"
   ]
  },
  {
   "cell_type": "code",
   "execution_count": 5,
   "id": "469a4fa4",
   "metadata": {},
   "outputs": [
    {
     "name": "stdout",
     "output_type": "stream",
     "text": [
      "Enter first string : my name is keshav\n",
      "Enter second string : my name is sunny\n",
      "All uncommon words from both the string are  ['keshav', 'sunny']\n"
     ]
    }
   ],
   "source": [
    "str1 = input('Enter first string : ')\n",
    "str2 = input('Enter second string : ')\n",
    "count = {}\n",
    "for word in str1.split():\n",
    "    count[word] = count.get(word, 0) + 1\n",
    "for word in str2.split():\n",
    "    count[word] = count.get(word, 0) + 1\n",
    "  \n",
    "uncommonWords =  [word for word in count if count[word] == 1]\n",
    "\n",
    " \n",
    "print(\"All uncommon words from both the string are \", uncommonWords)"
   ]
  },
  {
   "cell_type": "markdown",
   "id": "6d359a79",
   "metadata": {},
   "source": [
    "## 6. Write a Python to find all duplicate characters in string?"
   ]
  },
  {
   "cell_type": "code",
   "execution_count": 7,
   "id": "e1dac364",
   "metadata": {},
   "outputs": [
    {
     "ename": "SyntaxError",
     "evalue": "invalid syntax (1413774311.py, line 1)",
     "output_type": "error",
     "traceback": [
      "\u001b[1;36m  Input \u001b[1;32mIn [7]\u001b[1;36m\u001b[0m\n\u001b[1;33m    ef find_duplicate(x):\u001b[0m\n\u001b[1;37m       ^\u001b[0m\n\u001b[1;31mSyntaxError\u001b[0m\u001b[1;31m:\u001b[0m invalid syntax\n"
     ]
    }
   ],
   "source": [
    "ef find_duplicate(x):\n",
    "    x =input(\"Enter a word = \")\n",
    "    for char in x :\n",
    "        counts=x.count(char)\n",
    "        while counts > 1:\n",
    "            return (char,counts)\n",
    "print(find_duplicate('my name is jkes'))"
   ]
  },
  {
   "cell_type": "code",
   "execution_count": 8,
   "id": "5a94e47c",
   "metadata": {},
   "outputs": [
    {
     "name": "stdout",
     "output_type": "stream",
     "text": [
      "enter a stringmy nmer is kkkesgav\n",
      "Duplicate characters in a given string: \n",
      "m\n",
      "e\n",
      "s\n",
      "k\n"
     ]
    }
   ],
   "source": [
    "string =input('enter a string')  \n",
    "   \n",
    "print(\"Duplicate characters in a given string: \")  \n",
    "  \n",
    "for i in range(0, len(string)):  \n",
    "    count = 1;  \n",
    "    for j in range(i+1, len(string)):  \n",
    "        if(string[i] == string[j] and string[i] != ' '):  \n",
    "            count = count + 1;  \n",
    "              \n",
    "            string = string[:j] + '0' + string[j+1:];  \n",
    "   \n",
    "    \n",
    "    if(count > 1 and string[i] != '0'):  \n",
    "        print(string[i]);  "
   ]
  },
  {
   "cell_type": "markdown",
   "id": "61838afe",
   "metadata": {},
   "source": [
    "## 7. Write a Python Program to check if a string contains any special character?"
   ]
  },
  {
   "cell_type": "code",
   "execution_count": 9,
   "id": "c45f7720",
   "metadata": {},
   "outputs": [
    {
     "name": "stdout",
     "output_type": "stream",
     "text": [
      "The string is :\n",
      "PythonInterpreter\n",
      "String contains special characters.\n"
     ]
    }
   ],
   "source": [
    "import re\n",
    "\n",
    "def check_string(my_string):\n",
    "\n",
    "   regex = re.compile('[@_!#$%^&*()<>?/\\|}{~:]')\n",
    "   if(regex.search(my_string) == None):\n",
    "      print(\"String contains special characters.\")\n",
    "   else:\n",
    "      print(\"String does not contain any special character.\")\n",
    "\n",
    "my_string = \"PythonInterpreter\"\n",
    "print(\"The string is :\")\n",
    "print(my_string)\n",
    "check_string(my_string)"
   ]
  },
  {
   "cell_type": "code",
   "execution_count": null,
   "id": "5c71f4cf",
   "metadata": {},
   "outputs": [],
   "source": []
  }
 ],
 "metadata": {
  "kernelspec": {
   "display_name": "Python 3 (ipykernel)",
   "language": "python",
   "name": "python3"
  },
  "language_info": {
   "codemirror_mode": {
    "name": "ipython",
    "version": 3
   },
   "file_extension": ".py",
   "mimetype": "text/x-python",
   "name": "python",
   "nbconvert_exporter": "python",
   "pygments_lexer": "ipython3",
   "version": "3.9.6"
  }
 },
 "nbformat": 4,
 "nbformat_minor": 5
}
